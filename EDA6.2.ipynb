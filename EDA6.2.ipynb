{
 "cells": [
  {
   "cell_type": "markdown",
   "metadata": {},
   "source": [
    "I think I have it all fixed. Sorry about the confusion. I work in VS code and then transfer it to Jupyter notebooks. The paths were working in VS code but did not work when I brought the file over. Please let me know if you have any advice for making that easier in the future. Thank you."
   ]
  },
  {
   "cell_type": "markdown",
   "metadata": {},
   "source": [
    "Introduction\n",
    "This project aims to analyze taxi ride data in Chicago for the month of November 2017. The analysis focuses on various aspects such as the number of rides provided by different taxi companies, the most popular drop-off locations, and the impact of weather conditions on ride durations. By examining these factors, we can gain insights into the performance of taxi services, the preferences of passengers, and the influence of external conditions on travel times."
   ]
  },
  {
   "cell_type": "code",
   "execution_count": 1,
   "metadata": {},
   "outputs": [],
   "source": [
    "import pandas as pd\n",
    "import numpy as np\n",
    "import seaborn as sns\n",
    "import matplotlib.pyplot as plt\n",
    "from scipy.stats import ttest_ind\n",
    "import os"
   ]
  },
  {
   "cell_type": "code",
   "execution_count": 2,
   "metadata": {},
   "outputs": [
    {
     "name": "stdout",
     "output_type": "stream",
     "text": [
      "         Date and time  Temperature       Description\n",
      "0  2017-11-01 00:00:00       276.15     broken clouds\n",
      "1  2017-11-01 01:00:00       275.70  scattered clouds\n",
      "2  2017-11-01 02:00:00       275.61   overcast clouds\n",
      "3  2017-11-01 03:00:00       275.35     broken clouds\n",
      "4  2017-11-01 04:00:00       275.24     broken clouds\n"
     ]
    }
   ],
   "source": [
    "# Read the HTML table from the URL\n",
    "url = 'https://practicum-content.s3.us-west-1.amazonaws.com/data-analyst-eng/moved_chicago_weather_2017.html'\n",
    "df_weather = pd.read_html(url)[0]\n",
    "\n",
    "# Save the dataframe to a CSV file\n",
    "df_weather.to_csv('chicago_weather_2017.csv', index=False)\n",
    "\n",
    "# Display the first few rows of the dataframe\n",
    "print(df_weather.head())"
   ]
  },
  {
   "cell_type": "markdown",
   "metadata": {},
   "source": [
    "Cleaning the data"
   ]
  },
  {
   "cell_type": "code",
   "execution_count": 3,
   "metadata": {},
   "outputs": [
    {
     "name": "stdout",
     "output_type": "stream",
     "text": [
      "         Date and time  Temperature       Description\n",
      "0  2017-11-01 00:00:00       276.15     broken clouds\n",
      "1  2017-11-01 01:00:00       275.70  scattered clouds\n",
      "2  2017-11-01 02:00:00       275.61   overcast clouds\n",
      "3  2017-11-01 03:00:00       275.35     broken clouds\n",
      "4  2017-11-01 04:00:00       275.24     broken clouds\n",
      "Date and time    0\n",
      "Temperature      0\n",
      "Description      0\n",
      "dtype: int64\n",
      "         Date and time  Temperature       Description\n",
      "0  2017-11-01 00:00:00       276.15     broken clouds\n",
      "1  2017-11-01 01:00:00       275.70  scattered clouds\n",
      "2  2017-11-01 02:00:00       275.61   overcast clouds\n",
      "3  2017-11-01 03:00:00       275.35     broken clouds\n",
      "4  2017-11-01 04:00:00       275.24     broken clouds\n",
      "0\n"
     ]
    },
    {
     "data": {
      "text/html": [
       "<div>\n",
       "<style scoped>\n",
       "    .dataframe tbody tr th:only-of-type {\n",
       "        vertical-align: middle;\n",
       "    }\n",
       "\n",
       "    .dataframe tbody tr th {\n",
       "        vertical-align: top;\n",
       "    }\n",
       "\n",
       "    .dataframe thead th {\n",
       "        text-align: right;\n",
       "    }\n",
       "</style>\n",
       "<table border=\"1\" class=\"dataframe\">\n",
       "  <thead>\n",
       "    <tr style=\"text-align: right;\">\n",
       "      <th></th>\n",
       "      <th>Date and time</th>\n",
       "      <th>Temperature</th>\n",
       "      <th>Description</th>\n",
       "    </tr>\n",
       "  </thead>\n",
       "  <tbody>\n",
       "    <tr>\n",
       "      <th>0</th>\n",
       "      <td>2017-11-01 00:00:00</td>\n",
       "      <td>276.15</td>\n",
       "      <td>broken clouds</td>\n",
       "    </tr>\n",
       "    <tr>\n",
       "      <th>1</th>\n",
       "      <td>2017-11-01 01:00:00</td>\n",
       "      <td>275.70</td>\n",
       "      <td>scattered clouds</td>\n",
       "    </tr>\n",
       "    <tr>\n",
       "      <th>2</th>\n",
       "      <td>2017-11-01 02:00:00</td>\n",
       "      <td>275.61</td>\n",
       "      <td>overcast clouds</td>\n",
       "    </tr>\n",
       "    <tr>\n",
       "      <th>3</th>\n",
       "      <td>2017-11-01 03:00:00</td>\n",
       "      <td>275.35</td>\n",
       "      <td>broken clouds</td>\n",
       "    </tr>\n",
       "    <tr>\n",
       "      <th>4</th>\n",
       "      <td>2017-11-01 04:00:00</td>\n",
       "      <td>275.24</td>\n",
       "      <td>broken clouds</td>\n",
       "    </tr>\n",
       "  </tbody>\n",
       "</table>\n",
       "</div>"
      ],
      "text/plain": [
       "         Date and time  Temperature       Description\n",
       "0  2017-11-01 00:00:00       276.15     broken clouds\n",
       "1  2017-11-01 01:00:00       275.70  scattered clouds\n",
       "2  2017-11-01 02:00:00       275.61   overcast clouds\n",
       "3  2017-11-01 03:00:00       275.35     broken clouds\n",
       "4  2017-11-01 04:00:00       275.24     broken clouds"
      ]
     },
     "metadata": {},
     "output_type": "display_data"
    }
   ],
   "source": [
    "# Load the data\n",
    "df_weather = pd.read_csv(r'chicago_weather_2017.csv')\n",
    "\n",
    "# Display the first few rows of the dataframe\n",
    "print(df_weather.head())\n",
    "\n",
    "# Check for missing values\n",
    "print(df_weather.isnull().sum())\n",
    "\n",
    "# Drop rows with missing values\n",
    "df_weather_cleaned = df_weather.dropna()\n",
    "\n",
    "# Display the first few rows of the cleaned dataframe\n",
    "print(df_weather_cleaned.head())\n",
    "\n",
    "# Check for duplicates\n",
    "print(df_weather_cleaned.duplicated().sum())\n",
    "\n",
    "# Drop duplicate rows\n",
    "df_weather_cleaned = df_weather_cleaned.drop_duplicates()\n",
    "\n",
    "# Display the first few rows of the cleaned dataframe\n",
    "display(df_weather_cleaned.head())\n",
    "\n"
   ]
  },
  {
   "cell_type": "code",
   "execution_count": 4,
   "metadata": {},
   "outputs": [
    {
     "name": "stdout",
     "output_type": "stream",
     "text": [
      "Date and time     object\n",
      "Temperature      float64\n",
      "Description       object\n",
      "dtype: object\n"
     ]
    }
   ],
   "source": [
    "print(df_weather_cleaned.dtypes)"
   ]
  },
  {
   "cell_type": "code",
   "execution_count": 5,
   "metadata": {},
   "outputs": [
    {
     "name": "stdout",
     "output_type": "stream",
     "text": [
      "                      company_name  trips_amount\n",
      "0                        Flash Cab         19558\n",
      "1        Taxi Affiliation Services         11422\n",
      "2                Medallion Leasing         10367\n",
      "3                       Yellow Cab          9888\n",
      "4  Taxi Affiliation Service Yellow          9299\n"
     ]
    }
   ],
   "source": [
    "# Define the file path\n",
    "file_path = r'C:\\Users\\maryk\\BK_Tri_10\\Sprint_6\\Sprint_6_project\\datasetsproject_sql_result_01.csv'\n",
    "file_path = '/datasets/project_sql_result_01.csv'\n",
    "\n",
    "# Load the data\n",
    "df_comp = pd.read_csv(file_path)\n",
    "\n",
    "# Display the first few rows of the dataframe\n",
    "print(df_comp.head())"
   ]
  },
  {
   "cell_type": "code",
   "execution_count": 6,
   "metadata": {},
   "outputs": [
    {
     "name": "stdout",
     "output_type": "stream",
     "text": [
      "company_name    0\n",
      "trips_amount    0\n",
      "dtype: int64\n",
      "                      company_name  trips_amount\n",
      "0                        Flash Cab         19558\n",
      "1        Taxi Affiliation Services         11422\n",
      "2                Medallion Leasing         10367\n",
      "3                       Yellow Cab          9888\n",
      "4  Taxi Affiliation Service Yellow          9299\n",
      "0\n"
     ]
    },
    {
     "data": {
      "text/html": [
       "<div>\n",
       "<style scoped>\n",
       "    .dataframe tbody tr th:only-of-type {\n",
       "        vertical-align: middle;\n",
       "    }\n",
       "\n",
       "    .dataframe tbody tr th {\n",
       "        vertical-align: top;\n",
       "    }\n",
       "\n",
       "    .dataframe thead th {\n",
       "        text-align: right;\n",
       "    }\n",
       "</style>\n",
       "<table border=\"1\" class=\"dataframe\">\n",
       "  <thead>\n",
       "    <tr style=\"text-align: right;\">\n",
       "      <th></th>\n",
       "      <th>company_name</th>\n",
       "      <th>trips_amount</th>\n",
       "    </tr>\n",
       "  </thead>\n",
       "  <tbody>\n",
       "    <tr>\n",
       "      <th>0</th>\n",
       "      <td>Flash Cab</td>\n",
       "      <td>19558</td>\n",
       "    </tr>\n",
       "    <tr>\n",
       "      <th>1</th>\n",
       "      <td>Taxi Affiliation Services</td>\n",
       "      <td>11422</td>\n",
       "    </tr>\n",
       "    <tr>\n",
       "      <th>2</th>\n",
       "      <td>Medallion Leasing</td>\n",
       "      <td>10367</td>\n",
       "    </tr>\n",
       "    <tr>\n",
       "      <th>3</th>\n",
       "      <td>Yellow Cab</td>\n",
       "      <td>9888</td>\n",
       "    </tr>\n",
       "    <tr>\n",
       "      <th>4</th>\n",
       "      <td>Taxi Affiliation Service Yellow</td>\n",
       "      <td>9299</td>\n",
       "    </tr>\n",
       "  </tbody>\n",
       "</table>\n",
       "</div>"
      ],
      "text/plain": [
       "                      company_name  trips_amount\n",
       "0                        Flash Cab         19558\n",
       "1        Taxi Affiliation Services         11422\n",
       "2                Medallion Leasing         10367\n",
       "3                       Yellow Cab          9888\n",
       "4  Taxi Affiliation Service Yellow          9299"
      ]
     },
     "metadata": {},
     "output_type": "display_data"
    }
   ],
   "source": [
    "# Check for missing values\n",
    "print(df_comp.isnull().sum())\n",
    "\n",
    "# Drop rows with missing values\n",
    "df_comp_cleaned = df_comp.dropna()\n",
    "\n",
    "# Display the first few rows of the cleaned dataframe\n",
    "print(df_comp_cleaned.head())\n",
    "\n",
    "# Check for duplicates\n",
    "print(df_comp_cleaned.duplicated().sum())\n",
    "\n",
    "# Drop duplicate rows\n",
    "df_comp_cleaned = df_comp_cleaned.drop_duplicates()\n",
    "\n",
    "# Display the first few rows of the cleaned dataframe\n",
    "display(df_comp_cleaned.head())"
   ]
  },
  {
   "cell_type": "code",
   "execution_count": 7,
   "metadata": {},
   "outputs": [
    {
     "name": "stdout",
     "output_type": "stream",
     "text": [
      "company_name    object\n",
      "trips_amount     int64\n",
      "dtype: object\n"
     ]
    }
   ],
   "source": [
    "print(df_comp_cleaned.dtypes)"
   ]
  },
  {
   "cell_type": "code",
   "execution_count": 8,
   "metadata": {},
   "outputs": [
    {
     "name": "stdout",
     "output_type": "stream",
     "text": [
      "  dropoff_location_name  average_trips\n",
      "0                  Loop   10727.466667\n",
      "1           River North    9523.666667\n",
      "2         Streeterville    6664.666667\n",
      "3             West Loop    5163.666667\n",
      "4                O'Hare    2546.900000\n"
     ]
    }
   ],
   "source": [
    "# Define the file path\n",
    "file_path_04 = r'C:\\Users\\maryk\\BK_Tri_10\\Sprint_6\\Sprint_6_project\\datasetsproject_sql_result_04.csv'\n",
    "file_path_04 = '/datasets/project_sql_result_04.csv'\n",
    "# Load the data\n",
    "df_04 = pd.read_csv(file_path_04)\n",
    "\n",
    "# Display the first few rows of the dataframe\n",
    "print(df_04.head())"
   ]
  },
  {
   "cell_type": "code",
   "execution_count": 9,
   "metadata": {},
   "outputs": [
    {
     "name": "stdout",
     "output_type": "stream",
     "text": [
      "dropoff_location_name     object\n",
      "average_trips            float64\n",
      "dtype: object\n"
     ]
    }
   ],
   "source": [
    "print(df_04.dtypes)"
   ]
  },
  {
   "cell_type": "code",
   "execution_count": 10,
   "metadata": {},
   "outputs": [
    {
     "name": "stdout",
     "output_type": "stream",
     "text": [
      "dropoff_location_name    0\n",
      "average_trips            0\n",
      "dtype: int64\n",
      "  dropoff_location_name  average_trips\n",
      "0                  Loop   10727.466667\n",
      "1           River North    9523.666667\n",
      "2         Streeterville    6664.666667\n",
      "3             West Loop    5163.666667\n",
      "4                O'Hare    2546.900000\n",
      "0\n"
     ]
    },
    {
     "data": {
      "text/html": [
       "<div>\n",
       "<style scoped>\n",
       "    .dataframe tbody tr th:only-of-type {\n",
       "        vertical-align: middle;\n",
       "    }\n",
       "\n",
       "    .dataframe tbody tr th {\n",
       "        vertical-align: top;\n",
       "    }\n",
       "\n",
       "    .dataframe thead th {\n",
       "        text-align: right;\n",
       "    }\n",
       "</style>\n",
       "<table border=\"1\" class=\"dataframe\">\n",
       "  <thead>\n",
       "    <tr style=\"text-align: right;\">\n",
       "      <th></th>\n",
       "      <th>dropoff_location_name</th>\n",
       "      <th>average_trips</th>\n",
       "    </tr>\n",
       "  </thead>\n",
       "  <tbody>\n",
       "    <tr>\n",
       "      <th>0</th>\n",
       "      <td>Loop</td>\n",
       "      <td>10727.466667</td>\n",
       "    </tr>\n",
       "    <tr>\n",
       "      <th>1</th>\n",
       "      <td>River North</td>\n",
       "      <td>9523.666667</td>\n",
       "    </tr>\n",
       "    <tr>\n",
       "      <th>2</th>\n",
       "      <td>Streeterville</td>\n",
       "      <td>6664.666667</td>\n",
       "    </tr>\n",
       "    <tr>\n",
       "      <th>3</th>\n",
       "      <td>West Loop</td>\n",
       "      <td>5163.666667</td>\n",
       "    </tr>\n",
       "    <tr>\n",
       "      <th>4</th>\n",
       "      <td>O'Hare</td>\n",
       "      <td>2546.900000</td>\n",
       "    </tr>\n",
       "  </tbody>\n",
       "</table>\n",
       "</div>"
      ],
      "text/plain": [
       "  dropoff_location_name  average_trips\n",
       "0                  Loop   10727.466667\n",
       "1           River North    9523.666667\n",
       "2         Streeterville    6664.666667\n",
       "3             West Loop    5163.666667\n",
       "4                O'Hare    2546.900000"
      ]
     },
     "metadata": {},
     "output_type": "display_data"
    }
   ],
   "source": [
    "# Check for missing values\n",
    "print(df_04.isnull().sum())\n",
    "\n",
    "# Drop rows with missing values\n",
    "df_04_cleaned = df_04.dropna()\n",
    "\n",
    "# Display the first few rows of the cleaned dataframe\n",
    "print(df_04_cleaned.head())\n",
    "\n",
    "# Check for duplicates\n",
    "print(df_04_cleaned.duplicated().sum())\n",
    "\n",
    "# Drop duplicate rows\n",
    "df_04_cleaned = df_04_cleaned.drop_duplicates()\n",
    "\n",
    "# Display the first few rows of the cleaned dataframe\n",
    "display(df_04_cleaned.head())"
   ]
  },
  {
   "cell_type": "code",
   "execution_count": 11,
   "metadata": {},
   "outputs": [
    {
     "name": "stdout",
     "output_type": "stream",
     "text": [
      "              start_ts weather_conditions  duration_seconds\n",
      "0  2017-11-25 16:00:00               Good            2410.0\n",
      "1  2017-11-25 14:00:00               Good            1920.0\n",
      "2  2017-11-25 12:00:00               Good            1543.0\n",
      "3  2017-11-04 10:00:00               Good            2512.0\n",
      "4  2017-11-11 07:00:00               Good            1440.0\n"
     ]
    }
   ],
   "source": [
    "# Define the file path\n",
    "file_path_07 = r'C:\\Users\\maryk\\BK_Tri_10\\Sprint_6\\Sprint_6_project\\datasetsproject_sql_result_07.csv'\n",
    "file_path_07 = '/datasets/project_sql_result_07.csv'\n",
    "# Load the data\n",
    "df_07 = pd.read_csv(file_path_07)\n",
    "\n",
    "# Display the first few rows of the dataframe\n",
    "print(df_07.head())"
   ]
  },
  {
   "cell_type": "code",
   "execution_count": 12,
   "metadata": {},
   "outputs": [
    {
     "name": "stdout",
     "output_type": "stream",
     "text": [
      "start_ts               object\n",
      "weather_conditions     object\n",
      "duration_seconds      float64\n",
      "dtype: object\n"
     ]
    }
   ],
   "source": [
    "print(df_07.dtypes)"
   ]
  },
  {
   "cell_type": "code",
   "execution_count": 13,
   "metadata": {},
   "outputs": [
    {
     "name": "stdout",
     "output_type": "stream",
     "text": [
      "             start_ts weather_conditions  duration_seconds\n",
      "0 2017-11-25 16:00:00               Good              2410\n",
      "1 2017-11-25 14:00:00               Good              1920\n",
      "2 2017-11-25 12:00:00               Good              1543\n",
      "3 2017-11-04 10:00:00               Good              2512\n",
      "4 2017-11-11 07:00:00               Good              1440\n",
      "start_ts              datetime64[ns]\n",
      "weather_conditions            object\n",
      "duration_seconds               int64\n",
      "dtype: object\n"
     ]
    }
   ],
   "source": [
    "# Convert start_ts to datetime\n",
    "df_07['start_ts'] = pd.to_datetime(df_07['start_ts'])\n",
    "\n",
    "# Convert duration_seconds to int64\n",
    "df_07['duration_seconds'] = df_07['duration_seconds'].astype('int64')\n",
    "\n",
    "# Display the first few rows of the dataframe\n",
    "print(df_07.head())\n",
    "\n",
    "# Display the data types to confirm the changes\n",
    "print(df_07.dtypes)"
   ]
  },
  {
   "cell_type": "code",
   "execution_count": 14,
   "metadata": {},
   "outputs": [
    {
     "name": "stdout",
     "output_type": "stream",
     "text": [
      "             start_ts weather_conditions  duration_seconds\n",
      "0 2017-11-25 16:00:00               Good              2410\n",
      "1 2017-11-25 14:00:00               Good              1920\n",
      "2 2017-11-25 12:00:00               Good              1543\n",
      "3 2017-11-04 10:00:00               Good              2512\n",
      "4 2017-11-11 07:00:00               Good              1440\n",
      "start_ts              datetime64[ns]\n",
      "weather_conditions            object\n",
      "duration_seconds               int64\n",
      "dtype: object\n"
     ]
    }
   ],
   "source": [
    "# Convert start_ts to datetime\n",
    "df_07['start_ts'] = pd.to_datetime(df_07['start_ts'])\n",
    "\n",
    "# Convert duration_seconds to int64\n",
    "df_07['duration_seconds'] = df_07['duration_seconds'].astype('int64')\n",
    "\n",
    "# Display the first few rows of the dataframe\n",
    "print(df_07.head())\n",
    "\n",
    "# Display the data types to confirm the changes\n",
    "print(df_07.dtypes)"
   ]
  },
  {
   "cell_type": "markdown",
   "metadata": {},
   "source": [
    "The top 10 neighborhoods in terms of drop-offs"
   ]
  },
  {
   "cell_type": "code",
   "execution_count": 15,
   "metadata": {},
   "outputs": [
    {
     "name": "stdout",
     "output_type": "stream",
     "text": [
      "  dropoff_location_name  average_trips\n",
      "0                  Loop   10727.466667\n",
      "1           River North    9523.666667\n",
      "2         Streeterville    6664.666667\n",
      "3             West Loop    5163.666667\n",
      "4                O'Hare    2546.900000\n",
      "5             Lake View    2420.966667\n",
      "6            Grant Park    2068.533333\n",
      "7         Museum Campus    1510.000000\n",
      "8            Gold Coast    1364.233333\n",
      "9    Sheffield & DePaul    1259.766667\n"
     ]
    }
   ],
   "source": [
    "# Sort the dataframe by average_trips in descending order and select the top 10 neighborhoods\n",
    "top_10_neighborhoods = df_04_cleaned.sort_values(by='average_trips', ascending=False).head(10)\n",
    "\n",
    "# Display the top 10 neighborhoods\n",
    "print(top_10_neighborhoods)"
   ]
  },
  {
   "cell_type": "markdown",
   "metadata": {},
   "source": [
    "Displaying the data to be able to visualize it."
   ]
  },
  {
   "cell_type": "code",
   "execution_count": 16,
   "metadata": {},
   "outputs": [
    {
     "data": {
      "image/png": "[encoded data removed]",
      "text/plain": [
       "<Figure size 1200x600 with 1 Axes>"
      ]
     },
     "metadata": {},
     "output_type": "display_data"
    }
   ],
   "source": [
    "top_10_companies = df_comp_cleaned.sort_values(by='trips_amount', ascending=False).head(10)\n",
    "\n",
    "# Create the bar plot\n",
    "plt.figure(figsize=(12, 6))\n",
    "sns.barplot(x='trips_amount', y='company_name', hue='company_name', data=top_10_companies, palette='viridis', dodge=False) \n",
    "plt.xlabel('Number of Rides')\n",
    "plt.ylabel('Taxi Company')\n",
    "plt.title('Top 10 Taxi Companies by Number of Rides')\n",
    "plt.legend([],[], frameon=False) \n",
    "plt.show()"
   ]
  },
  {
   "cell_type": "markdown",
   "metadata": {},
   "source": [
    "Flash Cab significantly outpaces other taxi services in the number of rides provided. The subsequent three services have relatively similar ride volumes, while the remaining services show a gradual decrease in rides provided. This disparity could be attributed to Flash Cab's superior service, leading to greater customer preference. Alternatively, Flash Cab might have a larger fleet of drivers, enabling them to fulfill more ride requests."
   ]
  },
  {
   "cell_type": "code",
   "execution_count": 17,
   "metadata": {},
   "outputs": [
    {
     "data": {
      "image/png": "[encoded data removed]",
      "text/plain": [
       "<Figure size 1200x600 with 1 Axes>"
      ]
     },
     "metadata": {},
     "output_type": "display_data"
    }
   ],
   "source": [
    " #Create a bar plot for the top 10 neighborhoods by number of drop-offs\n",
    "plt.figure(figsize=(12, 6))\n",
    "sns.barplot(x='average_trips', y='dropoff_location_name', hue='dropoff_location_name', data=top_10_neighborhoods, palette='viridis', dodge=False)\n",
    "plt.xlabel('Average Number of Trips')\n",
    "plt.ylabel('Neighborhood')\n",
    "plt.title('Top 10 Neighborhoods by Number of Drop-offs')\n",
    "plt.legend([],[], frameon=False) \n",
    "plt.show()"
   ]
  },
  {
   "cell_type": "markdown",
   "metadata": {},
   "source": [
    "The Loop and River North neighborhoods receive the highest proportion of taxi drop-offs. Streetville and the West Loop follow with a smaller share. After these areas, drop-off frequency significantly declines. This distribution might be influenced by factors such as proximity to the airport or income levels within different neighborhoods, impacting residents' ability to utilize ride services."
   ]
  },
  {
   "cell_type": "markdown",
   "metadata": {},
   "source": [
    "Test the hypothesis:"
   ]
  },
  {
   "cell_type": "code",
   "execution_count": 18,
   "metadata": {},
   "outputs": [
    {
     "name": "stdout",
     "output_type": "stream",
     "text": [
      "T-statistic: 7.186034288068629\n",
      "P-value: 6.738994326108734e-12\n",
      "Reject the null hypothesis: The average duration of rides from the Loop to O'Hare International Airport changes on rainy Saturdays.\n"
     ]
    }
   ],
   "source": [
    "# Filter the data for rides from the Loop to O'Hare International Airport\n",
    "rides_loop_to_ohare = df_07[(df_07['start_ts'].dt.day_name() == 'Saturday') & \n",
    "                            (df_07['weather_conditions'].isin(['Good', 'Bad']))]\n",
    "\n",
    "# Separate the data into rainy and non-rainy Saturdays\n",
    "rainy_saturdays = rides_loop_to_ohare[rides_loop_to_ohare['weather_conditions'] == 'Bad']['duration_seconds']\n",
    "non_rainy_saturdays = rides_loop_to_ohare[rides_loop_to_ohare['weather_conditions'] == 'Good']['duration_seconds']\n",
    "\n",
    "# Perform a two-sample t-test\n",
    "t_stat, p_value = ttest_ind(rainy_saturdays, non_rainy_saturdays, equal_var=False)\n",
    "\n",
    "# Set the significance level\n",
    "alpha = 0.05\n",
    "\n",
    "# Print the results\n",
    "print(f\"T-statistic: {t_stat}\")\n",
    "print(f\"P-value: {p_value}\")\n",
    "\n",
    "if p_value < alpha:\n",
    "    print(\"Reject the null hypothesis: The average duration of rides from the Loop to O'Hare International Airport changes on rainy Saturdays.\")\n",
    "else:\n",
    "    print(\"Fail to reject the null hypothesis: There is no significant change in the average duration of rides from the Loop to O'Hare International Airport on rainy Saturdays.\")"
   ]
  },
  {
   "cell_type": "code",
   "execution_count": 19,
   "metadata": {
    "vscode": {
     "languageId": "markdown"
    }
   },
   "outputs": [],
   "source": [
    "#Null Hypothesis (H0): There is no significant difference in the average duration of rides from the Loop to OHare International Airport on rainy Saturdays compared to non-rainy Saturdays. \n",
    "\n",
    "#Alternative Hypothesis (H1): There is a significant difference in the average duration of rides from the Loop to OHare International Airport on rainy Saturdays compared to non-rainy Saturdays.\n"
   ]
  },
  {
   "cell_type": "code",
   "execution_count": 20,
   "metadata": {
    "vscode": {
     "languageId": "markdown"
    }
   },
   "outputs": [],
   "source": [
    "#To test the hypotheses, a two-sample t-test was used. This statistical test is appropriate for comparing the means of two independent groups to determine if there is a significant difference between them. In this case, the two groups are the durations of rides from the Loop to OHare International Airport on rainy Saturdays and non-rainy Saturdays.\n",
    "#The data was separated into two groups: rainy_saturdays and non_rainy_saturdays based on the weather conditions.\n",
    "#A two-sample t-test using ttest_ind from the scipy.stats module was used. This test compares the means of the two groups and calculates the t-statistic and p-value.\n",
    "#The equal_var=False was set because we do not assume that the variances of the two groups are equal.\n",
    "#The significance level (alpha) was set to 0.05. This is a common threshold in hypothesis testing, indicating a 5% risk of concluding that a difference exists when there is no actual difference.\n"
   ]
  },
  {
   "cell_type": "code",
   "execution_count": 21,
   "metadata": {},
   "outputs": [
    {
     "data": {
      "image/png": "[encoded data removed]",
      "text/plain": [
       "<Figure size 1200x600 with 1 Axes>"
      ]
     },
     "metadata": {},
     "output_type": "display_data"
    }
   ],
   "source": [
    "plt.figure(figsize=(12, 6))\n",
    "sns.boxplot(data=[rainy_saturdays, non_rainy_saturdays], palette='viridis')\n",
    "plt.xticks([0, 1], ['Rainy Saturdays', 'Non-Rainy Saturdays'])\n",
    "plt.ylabel('Duration (seconds)')\n",
    "plt.title('Comparison of Ride Duration from the Loop to O\\'Hare International Airport on Rainy and Non-Rainy Saturdays')\n",
    "plt.show()"
   ]
  },
  {
   "cell_type": "code",
   "execution_count": 22,
   "metadata": {},
   "outputs": [
    {
     "data": {
      "image/png": "[encoded data removed]",
      "text/plain": [
       "<Figure size 1200x600 with 1 Axes>"
      ]
     },
     "metadata": {},
     "output_type": "display_data"
    }
   ],
   "source": [
    "# Filter the data for rides from the Loop to O'Hare International Airport\n",
    "rides_loop_to_ohare = df_07[(df_07['start_ts'].dt.day_name() == 'Saturday') & \n",
    "                            (df_07['weather_conditions'].isin(['Good', 'Bad']))]\n",
    "\n",
    "# Separate the data into rainy and non-rainy Saturdays\n",
    "rainy_saturdays = rides_loop_to_ohare[rides_loop_to_ohare['weather_conditions'] == 'Bad']\n",
    "non_rainy_saturdays = rides_loop_to_ohare[rides_loop_to_ohare['weather_conditions'] == 'Good']\n",
    "\n",
    "# Group by start time and calculate the mean duration\n",
    "rainy_saturdays_mean = rainy_saturdays.groupby(rainy_saturdays['start_ts'].dt.hour)['duration_seconds'].mean()\n",
    "non_rainy_saturdays_mean = non_rainy_saturdays.groupby(non_rainy_saturdays['start_ts'].dt.hour)['duration_seconds'].mean()\n",
    "\n",
    "# Plot the data\n",
    "plt.figure(figsize=(12, 6))\n",
    "plt.plot(rainy_saturdays_mean.index, rainy_saturdays_mean.values, label='Rainy Saturdays', marker='o')\n",
    "plt.plot(non_rainy_saturdays_mean.index, non_rainy_saturdays_mean.values, label='Non-Rainy Saturdays', marker='o')\n",
    "plt.xlabel('Hour of the Day')\n",
    "plt.ylabel('Average Duration (seconds)')\n",
    "plt.title('Average Duration of Rides from the Loop to O\\'Hare International Airport on Saturdays')\n",
    "plt.legend()\n",
    "plt.grid(True)\n",
    "plt.show()"
   ]
  },
  {
   "cell_type": "markdown",
   "metadata": {},
   "source": [
    "Conclusion:\n",
    "\n",
    "The Loop and River North neighborhoods receive the highest proportion of taxi drop-offs. This could be influenced by factors such as proximity to the airport, business districts, or higher income levels within these neighborhoods. \n",
    "Streeterville and the West Loop follow with a smaller share, and after these areas, drop-off frequency significantly declines. \n",
    "A two-sample t-test was conducted to compare the average duration of rides from the Loop to O'Hare International Airport on rainy and non-rainy Saturdays. \n",
    "The results showed there was not a significant difference in ride durations. \n",
    "The average duration of rides from the Loop to O'Hare International Airport varies throughout the day but the ride duration is generally the same on rainy verus non rainy days. Overall, the analysis highlights the dominance of certain taxi companies and neighborhoods in terms of ride volumes, with weather not having a significant impact. These insights can be valuable for taxi companies, city planners, and policymakers to improve transportation services and infrastructure in Chicago.\n"
   ]
  }
 ],
 "metadata": {
  "ExecuteTimeLog": [
   {
    "duration": 786,
    "start_time": "2025-03-17T18:35:59.256Z"
   },
   {
    "duration": 494,
    "start_time": "2025-03-17T18:36:00.045Z"
   },
   {
    "duration": 21,
    "start_time": "2025-03-17T18:36:00.541Z"
   },
   {
    "duration": 3,
    "start_time": "2025-03-17T18:36:00.564Z"
   },
   {
    "duration": 566,
    "start_time": "2025-03-17T18:36:00.570Z"
   },
   {
    "duration": 0,
    "start_time": "2025-03-17T18:36:01.138Z"
   },
   {
    "duration": 0,
    "start_time": "2025-03-17T18:36:01.140Z"
   },
   {
    "duration": 0,
    "start_time": "2025-03-17T18:36:01.142Z"
   },
   {
    "duration": 0,
    "start_time": "2025-03-17T18:36:01.143Z"
   },
   {
    "duration": 0,
    "start_time": "2025-03-17T18:36:01.145Z"
   },
   {
    "duration": 0,
    "start_time": "2025-03-17T18:36:01.146Z"
   },
   {
    "duration": 0,
    "start_time": "2025-03-17T18:36:01.147Z"
   },
   {
    "duration": 0,
    "start_time": "2025-03-17T18:36:01.148Z"
   },
   {
    "duration": 0,
    "start_time": "2025-03-17T18:36:01.149Z"
   },
   {
    "duration": 0,
    "start_time": "2025-03-17T18:36:01.150Z"
   },
   {
    "duration": 0,
    "start_time": "2025-03-17T18:36:01.152Z"
   },
   {
    "duration": 0,
    "start_time": "2025-03-17T18:36:01.153Z"
   },
   {
    "duration": 0,
    "start_time": "2025-03-17T18:36:01.154Z"
   },
   {
    "duration": 0,
    "start_time": "2025-03-17T18:36:01.155Z"
   },
   {
    "duration": 0,
    "start_time": "2025-03-17T18:36:01.156Z"
   },
   {
    "duration": 0,
    "start_time": "2025-03-17T18:36:01.157Z"
   },
   {
    "duration": 0,
    "start_time": "2025-03-17T18:36:01.159Z"
   },
   {
    "duration": 458,
    "start_time": "2025-03-17T18:39:58.918Z"
   },
   {
    "duration": 11,
    "start_time": "2025-03-17T18:41:32.164Z"
   },
   {
    "duration": 854,
    "start_time": "2025-03-17T18:41:58.520Z"
   },
   {
    "duration": 500,
    "start_time": "2025-03-17T18:41:59.376Z"
   },
   {
    "duration": 23,
    "start_time": "2025-03-17T18:41:59.877Z"
   },
   {
    "duration": 4,
    "start_time": "2025-03-17T18:41:59.901Z"
   },
   {
    "duration": 8,
    "start_time": "2025-03-17T18:41:59.908Z"
   },
   {
    "duration": 15,
    "start_time": "2025-03-17T18:41:59.917Z"
   },
   {
    "duration": 4,
    "start_time": "2025-03-17T18:41:59.934Z"
   },
   {
    "duration": 627,
    "start_time": "2025-03-17T18:41:59.940Z"
   },
   {
    "duration": 0,
    "start_time": "2025-03-17T18:42:00.570Z"
   },
   {
    "duration": 0,
    "start_time": "2025-03-17T18:42:00.571Z"
   },
   {
    "duration": 0,
    "start_time": "2025-03-17T18:42:00.572Z"
   },
   {
    "duration": 0,
    "start_time": "2025-03-17T18:42:00.573Z"
   },
   {
    "duration": 0,
    "start_time": "2025-03-17T18:42:00.575Z"
   },
   {
    "duration": 0,
    "start_time": "2025-03-17T18:42:00.576Z"
   },
   {
    "duration": 0,
    "start_time": "2025-03-17T18:42:00.577Z"
   },
   {
    "duration": 0,
    "start_time": "2025-03-17T18:42:00.578Z"
   },
   {
    "duration": 0,
    "start_time": "2025-03-17T18:42:00.579Z"
   },
   {
    "duration": 0,
    "start_time": "2025-03-17T18:42:00.580Z"
   },
   {
    "duration": 0,
    "start_time": "2025-03-17T18:42:00.581Z"
   },
   {
    "duration": 0,
    "start_time": "2025-03-17T18:42:00.582Z"
   },
   {
    "duration": 0,
    "start_time": "2025-03-17T18:42:00.583Z"
   },
   {
    "duration": 0,
    "start_time": "2025-03-17T18:42:00.585Z"
   },
   {
    "duration": 11,
    "start_time": "2025-03-17T18:42:57.786Z"
   },
   {
    "duration": 12,
    "start_time": "2025-03-17T18:43:37.050Z"
   },
   {
    "duration": 849,
    "start_time": "2025-03-17T18:43:48.287Z"
   },
   {
    "duration": 494,
    "start_time": "2025-03-17T18:43:49.138Z"
   },
   {
    "duration": 23,
    "start_time": "2025-03-17T18:43:49.634Z"
   },
   {
    "duration": 4,
    "start_time": "2025-03-17T18:43:49.659Z"
   },
   {
    "duration": 7,
    "start_time": "2025-03-17T18:43:49.667Z"
   },
   {
    "duration": 12,
    "start_time": "2025-03-17T18:43:49.675Z"
   },
   {
    "duration": 3,
    "start_time": "2025-03-17T18:43:49.689Z"
   },
   {
    "duration": 33,
    "start_time": "2025-03-17T18:43:49.694Z"
   },
   {
    "duration": 3,
    "start_time": "2025-03-17T18:43:49.729Z"
   },
   {
    "duration": 12,
    "start_time": "2025-03-17T18:43:49.734Z"
   },
   {
    "duration": 8,
    "start_time": "2025-03-17T18:43:49.748Z"
   },
   {
    "duration": 3,
    "start_time": "2025-03-17T18:43:49.758Z"
   },
   {
    "duration": 7,
    "start_time": "2025-03-17T18:43:49.763Z"
   },
   {
    "duration": 7,
    "start_time": "2025-03-17T18:43:49.773Z"
   },
   {
    "duration": 46,
    "start_time": "2025-03-17T18:43:49.782Z"
   },
   {
    "duration": 1069,
    "start_time": "2025-03-17T18:43:49.830Z"
   },
   {
    "duration": 0,
    "start_time": "2025-03-17T18:43:50.901Z"
   },
   {
    "duration": 0,
    "start_time": "2025-03-17T18:43:50.902Z"
   },
   {
    "duration": 0,
    "start_time": "2025-03-17T18:43:50.904Z"
   },
   {
    "duration": 0,
    "start_time": "2025-03-17T18:43:50.906Z"
   },
   {
    "duration": 0,
    "start_time": "2025-03-17T18:43:50.907Z"
   },
   {
    "duration": 0,
    "start_time": "2025-03-17T18:43:50.909Z"
   },
   {
    "duration": 502,
    "start_time": "2025-03-17T19:04:04.427Z"
   },
   {
    "duration": 916,
    "start_time": "2025-03-17T19:04:29.759Z"
   },
   {
    "duration": 520,
    "start_time": "2025-03-17T19:04:30.678Z"
   },
   {
    "duration": 25,
    "start_time": "2025-03-17T19:04:31.200Z"
   },
   {
    "duration": 4,
    "start_time": "2025-03-17T19:04:31.226Z"
   },
   {
    "duration": 9,
    "start_time": "2025-03-17T19:04:31.233Z"
   },
   {
    "duration": 13,
    "start_time": "2025-03-17T19:04:31.244Z"
   },
   {
    "duration": 3,
    "start_time": "2025-03-17T19:04:31.259Z"
   },
   {
    "duration": 9,
    "start_time": "2025-03-17T19:04:31.264Z"
   },
   {
    "duration": 4,
    "start_time": "2025-03-17T19:04:31.275Z"
   },
   {
    "duration": 13,
    "start_time": "2025-03-17T19:04:31.324Z"
   },
   {
    "duration": 9,
    "start_time": "2025-03-17T19:04:31.340Z"
   },
   {
    "duration": 4,
    "start_time": "2025-03-17T19:04:31.351Z"
   },
   {
    "duration": 8,
    "start_time": "2025-03-17T19:04:31.357Z"
   },
   {
    "duration": 8,
    "start_time": "2025-03-17T19:04:31.369Z"
   },
   {
    "duration": 49,
    "start_time": "2025-03-17T19:04:31.379Z"
   },
   {
    "duration": 310,
    "start_time": "2025-03-17T19:04:31.430Z"
   },
   {
    "duration": 0,
    "start_time": "2025-03-17T19:04:31.742Z"
   },
   {
    "duration": 0,
    "start_time": "2025-03-17T19:04:31.744Z"
   },
   {
    "duration": 0,
    "start_time": "2025-03-17T19:04:31.746Z"
   },
   {
    "duration": 0,
    "start_time": "2025-03-17T19:04:31.747Z"
   },
   {
    "duration": 0,
    "start_time": "2025-03-17T19:04:31.749Z"
   },
   {
    "duration": 0,
    "start_time": "2025-03-17T19:04:31.750Z"
   },
   {
    "duration": 558,
    "start_time": "2025-03-17T19:06:03.954Z"
   },
   {
    "duration": 793,
    "start_time": "2025-03-17T19:06:18.008Z"
   },
   {
    "duration": 790,
    "start_time": "2025-03-17T19:06:36.376Z"
   },
   {
    "duration": 540,
    "start_time": "2025-03-17T19:06:37.168Z"
   },
   {
    "duration": 27,
    "start_time": "2025-03-17T19:06:37.710Z"
   },
   {
    "duration": 3,
    "start_time": "2025-03-17T19:06:37.740Z"
   },
   {
    "duration": 8,
    "start_time": "2025-03-17T19:06:37.747Z"
   },
   {
    "duration": 12,
    "start_time": "2025-03-17T19:06:37.756Z"
   },
   {
    "duration": 3,
    "start_time": "2025-03-17T19:06:37.770Z"
   },
   {
    "duration": 7,
    "start_time": "2025-03-17T19:06:37.774Z"
   },
   {
    "duration": 3,
    "start_time": "2025-03-17T19:06:37.783Z"
   },
   {
    "duration": 12,
    "start_time": "2025-03-17T19:06:37.824Z"
   },
   {
    "duration": 7,
    "start_time": "2025-03-17T19:06:37.838Z"
   },
   {
    "duration": 4,
    "start_time": "2025-03-17T19:06:37.846Z"
   },
   {
    "duration": 8,
    "start_time": "2025-03-17T19:06:37.852Z"
   },
   {
    "duration": 6,
    "start_time": "2025-03-17T19:06:37.863Z"
   },
   {
    "duration": 6,
    "start_time": "2025-03-17T19:06:37.871Z"
   },
   {
    "duration": 649,
    "start_time": "2025-03-17T19:06:37.879Z"
   },
   {
    "duration": 931,
    "start_time": "2025-03-17T19:06:38.530Z"
   },
   {
    "duration": 0,
    "start_time": "2025-03-17T19:06:39.463Z"
   },
   {
    "duration": 0,
    "start_time": "2025-03-17T19:06:39.464Z"
   },
   {
    "duration": 0,
    "start_time": "2025-03-17T19:06:39.466Z"
   },
   {
    "duration": 0,
    "start_time": "2025-03-17T19:06:39.467Z"
   },
   {
    "duration": 0,
    "start_time": "2025-03-17T19:06:39.468Z"
   },
   {
    "duration": 6,
    "start_time": "2025-03-17T19:08:43.930Z"
   },
   {
    "duration": 635,
    "start_time": "2025-03-17T19:08:54.844Z"
   },
   {
    "duration": 742,
    "start_time": "2025-03-17T19:09:08.497Z"
   },
   {
    "duration": 496,
    "start_time": "2025-03-17T19:09:09.241Z"
   },
   {
    "duration": 22,
    "start_time": "2025-03-17T19:09:09.739Z"
   },
   {
    "duration": 3,
    "start_time": "2025-03-17T19:09:09.764Z"
   },
   {
    "duration": 7,
    "start_time": "2025-03-17T19:09:09.771Z"
   },
   {
    "duration": 11,
    "start_time": "2025-03-17T19:09:09.780Z"
   },
   {
    "duration": 3,
    "start_time": "2025-03-17T19:09:09.793Z"
   },
   {
    "duration": 31,
    "start_time": "2025-03-17T19:09:09.798Z"
   },
   {
    "duration": 3,
    "start_time": "2025-03-17T19:09:09.830Z"
   },
   {
    "duration": 12,
    "start_time": "2025-03-17T19:09:09.835Z"
   },
   {
    "duration": 8,
    "start_time": "2025-03-17T19:09:09.849Z"
   },
   {
    "duration": 3,
    "start_time": "2025-03-17T19:09:09.859Z"
   },
   {
    "duration": 7,
    "start_time": "2025-03-17T19:09:09.863Z"
   },
   {
    "duration": 57,
    "start_time": "2025-03-17T19:09:09.873Z"
   },
   {
    "duration": 4,
    "start_time": "2025-03-17T19:09:09.932Z"
   },
   {
    "duration": 605,
    "start_time": "2025-03-17T19:09:09.938Z"
   },
   {
    "duration": 509,
    "start_time": "2025-03-17T19:09:10.544Z"
   },
   {
    "duration": 10,
    "start_time": "2025-03-17T19:09:11.055Z"
   },
   {
    "duration": 2,
    "start_time": "2025-03-17T19:09:11.067Z"
   },
   {
    "duration": 3,
    "start_time": "2025-03-17T19:09:11.071Z"
   },
   {
    "duration": 161,
    "start_time": "2025-03-17T19:09:11.076Z"
   },
   {
    "duration": 172,
    "start_time": "2025-03-17T19:09:11.239Z"
   },
   {
    "duration": 809,
    "start_time": "2025-03-17T19:16:00.220Z"
   },
   {
    "duration": 494,
    "start_time": "2025-03-17T19:16:01.031Z"
   },
   {
    "duration": 21,
    "start_time": "2025-03-17T19:16:01.527Z"
   },
   {
    "duration": 3,
    "start_time": "2025-03-17T19:16:01.551Z"
   },
   {
    "duration": 7,
    "start_time": "2025-03-17T19:16:01.556Z"
   },
   {
    "duration": 11,
    "start_time": "2025-03-17T19:16:01.565Z"
   },
   {
    "duration": 3,
    "start_time": "2025-03-17T19:16:01.577Z"
   },
   {
    "duration": 6,
    "start_time": "2025-03-17T19:16:01.582Z"
   },
   {
    "duration": 34,
    "start_time": "2025-03-17T19:16:01.590Z"
   },
   {
    "duration": 11,
    "start_time": "2025-03-17T19:16:01.626Z"
   },
   {
    "duration": 8,
    "start_time": "2025-03-17T19:16:01.639Z"
   },
   {
    "duration": 4,
    "start_time": "2025-03-17T19:16:01.648Z"
   },
   {
    "duration": 7,
    "start_time": "2025-03-17T19:16:01.654Z"
   },
   {
    "duration": 7,
    "start_time": "2025-03-17T19:16:01.664Z"
   },
   {
    "duration": 6,
    "start_time": "2025-03-17T19:16:01.672Z"
   },
   {
    "duration": 610,
    "start_time": "2025-03-17T19:16:01.679Z"
   },
   {
    "duration": 513,
    "start_time": "2025-03-17T19:16:02.292Z"
   },
   {
    "duration": 17,
    "start_time": "2025-03-17T19:16:02.807Z"
   },
   {
    "duration": 3,
    "start_time": "2025-03-17T19:16:02.826Z"
   },
   {
    "duration": 5,
    "start_time": "2025-03-17T19:16:02.830Z"
   },
   {
    "duration": 133,
    "start_time": "2025-03-17T19:16:02.836Z"
   },
   {
    "duration": 172,
    "start_time": "2025-03-17T19:16:02.971Z"
   }
  ],
  "kernelspec": {
   "display_name": "Python 3 (ipykernel)",
   "language": "python",
   "name": "python3"
  },
  "language_info": {
   "codemirror_mode": {
    "name": "ipython",
    "version": 3
   },
   "file_extension": ".py",
   "mimetype": "text/x-python",
   "name": "python",
   "nbconvert_exporter": "python",
   "pygments_lexer": "ipython3",
   "version": "3.9.19"
  },
  "toc": {
   "base_numbering": 1,
   "nav_menu": {},
   "number_sections": true,
   "sideBar": true,
   "skip_h1_title": true,
   "title_cell": "Table of Contents",
   "title_sidebar": "Contents",
   "toc_cell": false,
   "toc_position": {},
   "toc_section_display": true,
   "toc_window_display": false
  }
 },
 "nbformat": 4,
 "nbformat_minor": 2
}
